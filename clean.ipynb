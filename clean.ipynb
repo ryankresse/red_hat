{
 "cells": [
  {
   "cell_type": "code",
   "execution_count": 8,
   "metadata": {
    "collapsed": true
   },
   "outputs": [],
   "source": [
    "%matplotlib inline\n",
    "import numpy as np\n",
    "import pandas as pd\n",
    "import matplotlib as mpl\n",
    "import matplotlib.pyplot as plt\n",
    "import seaborn as sns"
   ]
  },
  {
   "cell_type": "code",
   "execution_count": 9,
   "metadata": {
    "collapsed": false
   },
   "outputs": [],
   "source": [
    "people_df = pd.read_csv('people.csv')\n",
    "act_train_df = pd.read_csv('act_train.csv')\n"
   ]
  },
  {
   "cell_type": "code",
   "execution_count": 10,
   "metadata": {
    "collapsed": false
   },
   "outputs": [
    {
     "data": {
      "text/html": [
       "<div>\n",
       "<table border=\"1\" class=\"dataframe\">\n",
       "  <thead>\n",
       "    <tr style=\"text-align: right;\">\n",
       "      <th></th>\n",
       "      <th>people_id</th>\n",
       "      <th>char_1</th>\n",
       "      <th>group_1</th>\n",
       "      <th>char_2</th>\n",
       "      <th>date</th>\n",
       "      <th>char_3</th>\n",
       "      <th>char_4</th>\n",
       "      <th>char_5</th>\n",
       "      <th>char_6</th>\n",
       "      <th>char_7</th>\n",
       "      <th>...</th>\n",
       "      <th>char_29</th>\n",
       "      <th>char_30</th>\n",
       "      <th>char_31</th>\n",
       "      <th>char_32</th>\n",
       "      <th>char_33</th>\n",
       "      <th>char_34</th>\n",
       "      <th>char_35</th>\n",
       "      <th>char_36</th>\n",
       "      <th>char_37</th>\n",
       "      <th>char_38</th>\n",
       "    </tr>\n",
       "  </thead>\n",
       "  <tbody>\n",
       "    <tr>\n",
       "      <th>0</th>\n",
       "      <td>ppl_100</td>\n",
       "      <td>type 2</td>\n",
       "      <td>group 17304</td>\n",
       "      <td>type 2</td>\n",
       "      <td>2021-06-29</td>\n",
       "      <td>type 5</td>\n",
       "      <td>type 5</td>\n",
       "      <td>type 5</td>\n",
       "      <td>type 3</td>\n",
       "      <td>type 11</td>\n",
       "      <td>...</td>\n",
       "      <td>False</td>\n",
       "      <td>True</td>\n",
       "      <td>True</td>\n",
       "      <td>False</td>\n",
       "      <td>False</td>\n",
       "      <td>True</td>\n",
       "      <td>True</td>\n",
       "      <td>True</td>\n",
       "      <td>False</td>\n",
       "      <td>36</td>\n",
       "    </tr>\n",
       "    <tr>\n",
       "      <th>1</th>\n",
       "      <td>ppl_100002</td>\n",
       "      <td>type 2</td>\n",
       "      <td>group 8688</td>\n",
       "      <td>type 3</td>\n",
       "      <td>2021-01-06</td>\n",
       "      <td>type 28</td>\n",
       "      <td>type 9</td>\n",
       "      <td>type 5</td>\n",
       "      <td>type 3</td>\n",
       "      <td>type 11</td>\n",
       "      <td>...</td>\n",
       "      <td>False</td>\n",
       "      <td>True</td>\n",
       "      <td>True</td>\n",
       "      <td>True</td>\n",
       "      <td>True</td>\n",
       "      <td>True</td>\n",
       "      <td>True</td>\n",
       "      <td>True</td>\n",
       "      <td>False</td>\n",
       "      <td>76</td>\n",
       "    </tr>\n",
       "    <tr>\n",
       "      <th>2</th>\n",
       "      <td>ppl_100003</td>\n",
       "      <td>type 2</td>\n",
       "      <td>group 33592</td>\n",
       "      <td>type 3</td>\n",
       "      <td>2022-06-10</td>\n",
       "      <td>type 4</td>\n",
       "      <td>type 8</td>\n",
       "      <td>type 5</td>\n",
       "      <td>type 2</td>\n",
       "      <td>type 5</td>\n",
       "      <td>...</td>\n",
       "      <td>False</td>\n",
       "      <td>False</td>\n",
       "      <td>True</td>\n",
       "      <td>True</td>\n",
       "      <td>True</td>\n",
       "      <td>True</td>\n",
       "      <td>False</td>\n",
       "      <td>True</td>\n",
       "      <td>True</td>\n",
       "      <td>99</td>\n",
       "    </tr>\n",
       "    <tr>\n",
       "      <th>3</th>\n",
       "      <td>ppl_100004</td>\n",
       "      <td>type 2</td>\n",
       "      <td>group 22593</td>\n",
       "      <td>type 3</td>\n",
       "      <td>2022-07-20</td>\n",
       "      <td>type 40</td>\n",
       "      <td>type 25</td>\n",
       "      <td>type 9</td>\n",
       "      <td>type 4</td>\n",
       "      <td>type 16</td>\n",
       "      <td>...</td>\n",
       "      <td>True</td>\n",
       "      <td>True</td>\n",
       "      <td>True</td>\n",
       "      <td>True</td>\n",
       "      <td>True</td>\n",
       "      <td>True</td>\n",
       "      <td>True</td>\n",
       "      <td>True</td>\n",
       "      <td>True</td>\n",
       "      <td>76</td>\n",
       "    </tr>\n",
       "    <tr>\n",
       "      <th>4</th>\n",
       "      <td>ppl_100006</td>\n",
       "      <td>type 2</td>\n",
       "      <td>group 6534</td>\n",
       "      <td>type 3</td>\n",
       "      <td>2022-07-27</td>\n",
       "      <td>type 40</td>\n",
       "      <td>type 25</td>\n",
       "      <td>type 9</td>\n",
       "      <td>type 3</td>\n",
       "      <td>type 8</td>\n",
       "      <td>...</td>\n",
       "      <td>False</td>\n",
       "      <td>False</td>\n",
       "      <td>True</td>\n",
       "      <td>False</td>\n",
       "      <td>False</td>\n",
       "      <td>False</td>\n",
       "      <td>True</td>\n",
       "      <td>True</td>\n",
       "      <td>False</td>\n",
       "      <td>84</td>\n",
       "    </tr>\n",
       "  </tbody>\n",
       "</table>\n",
       "<p>5 rows × 41 columns</p>\n",
       "</div>"
      ],
      "text/plain": [
       "    people_id  char_1      group_1  char_2        date   char_3   char_4  \\\n",
       "0     ppl_100  type 2  group 17304  type 2  2021-06-29   type 5   type 5   \n",
       "1  ppl_100002  type 2   group 8688  type 3  2021-01-06  type 28   type 9   \n",
       "2  ppl_100003  type 2  group 33592  type 3  2022-06-10   type 4   type 8   \n",
       "3  ppl_100004  type 2  group 22593  type 3  2022-07-20  type 40  type 25   \n",
       "4  ppl_100006  type 2   group 6534  type 3  2022-07-27  type 40  type 25   \n",
       "\n",
       "   char_5  char_6   char_7   ...   char_29 char_30 char_31 char_32 char_33  \\\n",
       "0  type 5  type 3  type 11   ...     False    True    True   False   False   \n",
       "1  type 5  type 3  type 11   ...     False    True    True    True    True   \n",
       "2  type 5  type 2   type 5   ...     False   False    True    True    True   \n",
       "3  type 9  type 4  type 16   ...      True    True    True    True    True   \n",
       "4  type 9  type 3   type 8   ...     False   False    True   False   False   \n",
       "\n",
       "  char_34 char_35 char_36 char_37 char_38  \n",
       "0    True    True    True   False      36  \n",
       "1    True    True    True   False      76  \n",
       "2    True   False    True    True      99  \n",
       "3    True    True    True    True      76  \n",
       "4   False    True    True   False      84  \n",
       "\n",
       "[5 rows x 41 columns]"
      ]
     },
     "execution_count": 10,
     "metadata": {},
     "output_type": "execute_result"
    }
   ],
   "source": [
    "people_df.head()"
   ]
  },
  {
   "cell_type": "code",
   "execution_count": 11,
   "metadata": {
    "collapsed": false
   },
   "outputs": [],
   "source": [
    "#colsWithNas = ['char_1','char_2', 'char_3', 'char_4', 'char_5', 'char_6', 'char_7', 'char_8','char_9']\n",
    "\n",
    "#for _, col in enumerate(colsWithNas):\n",
    " #   act_train_df[col] = act_train_df[col].fillna('-') "
   ]
  },
  {
   "cell_type": "markdown",
   "metadata": {},
   "source": [
    "All variables are categorical, with the exception of 'char_38' in the people file, which is a continuous numerical variable.\n",
    "\n",
    "People_df contains characteristics of each person. Act_train contains activities that were initiated, but not neccesarily completed. Each activity contains id for the person, activity category, charactersitcs about that activity, as well as whether the activity was completed or not.\n",
    "\n",
    "The goal is predict the outcome of the actitity -- either 0 or 1.\n",
    "\n",
    "\n",
    "\n"
   ]
  },
  {
   "cell_type": "markdown",
   "metadata": {},
   "source": [
    "Drop columns that won't likely be helpful\n",
    "\n"
   ]
  },
  {
   "cell_type": "code",
   "execution_count": 12,
   "metadata": {
    "collapsed": false
   },
   "outputs": [],
   "source": [
    "people_df = people_df.drop(['date'], axis=1)\n",
    "act_train_df = act_train_df.drop(['date', 'activity_id'], axis=1)\n"
   ]
  },
  {
   "cell_type": "markdown",
   "metadata": {},
   "source": [
    "Rename char variables so they don't conflict with each other when we join the dataframes.\n",
    "\n"
   ]
  },
  {
   "cell_type": "code",
   "execution_count": 13,
   "metadata": {
    "collapsed": false
   },
   "outputs": [],
   "source": [
    "import re\n",
    "p = re.compile('^char')\n",
    "\n",
    "def renameCharColumns(colName, prpnd):\n",
    "    if p.match(colName) != None:\n",
    "        return prpnd + '_' + colName\n",
    "    else:\n",
    "        return colName\n",
    "\n",
    "people_df.columns = [renameCharColumns(colName, prpnd='people') for colName in people_df.columns]\n",
    "act_train_df.columns = [renameCharColumns(colName, prpnd='act') for colName in act_train_df.columns]"
   ]
  },
  {
   "cell_type": "markdown",
   "metadata": {},
   "source": [
    "Joined the dataframes on the people_id column"
   ]
  },
  {
   "cell_type": "code",
   "execution_count": 14,
   "metadata": {
    "collapsed": false
   },
   "outputs": [],
   "source": [
    "joined_df = act_train_df.merge(people_df, on='people_id', )\n",
    "joined_df = joined_df.drop('people_id', axis=1)"
   ]
  },
  {
   "cell_type": "markdown",
   "metadata": {},
   "source": [
    "One hot encode activity_category column"
   ]
  },
  {
   "cell_type": "code",
   "execution_count": 15,
   "metadata": {
    "collapsed": false
   },
   "outputs": [],
   "source": [
    "#act_category_dummies = pd.get_dummies(joined_df['activity_category'], prefix='act_cat')\n",
    "#act_category_dummies.head()\n",
    "#joined_df = joined_df.join(act_category_dummies)\n",
    "#joined_df = joined_df.drop('activity_category', axis=1)\n",
    "#joined_df.head()"
   ]
  },
  {
   "cell_type": "markdown",
   "metadata": {
    "collapsed": false
   },
   "source": [
    "Convert boolean columns to 1's and 0's"
   ]
  },
  {
   "cell_type": "code",
   "execution_count": 16,
   "metadata": {
    "collapsed": false
   },
   "outputs": [
    {
     "data": {
      "text/plain": [
       "activity_category    object\n",
       "act_char_1           object\n",
       "act_char_2           object\n",
       "act_char_3           object\n",
       "act_char_4           object\n",
       "act_char_5           object\n",
       "act_char_6           object\n",
       "act_char_7           object\n",
       "act_char_8           object\n",
       "act_char_9           object\n",
       "act_char_10          object\n",
       "outcome               int64\n",
       "people_char_1        object\n",
       "group_1              object\n",
       "people_char_2        object\n",
       "people_char_3        object\n",
       "people_char_4        object\n",
       "people_char_5        object\n",
       "people_char_6        object\n",
       "people_char_7        object\n",
       "people_char_8        object\n",
       "people_char_9        object\n",
       "people_char_10        int64\n",
       "people_char_11        int64\n",
       "people_char_12        int64\n",
       "people_char_13        int64\n",
       "people_char_14        int64\n",
       "people_char_15        int64\n",
       "people_char_16        int64\n",
       "people_char_17        int64\n",
       "people_char_18        int64\n",
       "people_char_19        int64\n",
       "people_char_20        int64\n",
       "people_char_21        int64\n",
       "people_char_22        int64\n",
       "people_char_23        int64\n",
       "people_char_24        int64\n",
       "people_char_25        int64\n",
       "people_char_26        int64\n",
       "people_char_27        int64\n",
       "people_char_28        int64\n",
       "people_char_29        int64\n",
       "people_char_30        int64\n",
       "people_char_31        int64\n",
       "people_char_32        int64\n",
       "people_char_33        int64\n",
       "people_char_34        int64\n",
       "people_char_35        int64\n",
       "people_char_36        int64\n",
       "people_char_37        int64\n",
       "people_char_38        int64\n",
       "dtype: object"
      ]
     },
     "execution_count": 16,
     "metadata": {},
     "output_type": "execute_result"
    }
   ],
   "source": [
    "joined_df['people_char_4'].unique()\n",
    "joined_df.dtypes\n",
    "\n",
    "boolCols = ['people_char_10', 'people_char_11',\n",
    "       'people_char_12', 'people_char_13', 'people_char_14', 'people_char_15',\n",
    "       'people_char_16', 'people_char_17', 'people_char_18', 'people_char_19',\n",
    "       'people_char_20', 'people_char_21', 'people_char_22', 'people_char_23',\n",
    "       'people_char_24', 'people_char_25', 'people_char_26', 'people_char_27',\n",
    "       'people_char_28', 'people_char_29', 'people_char_30', 'people_char_31',\n",
    "       'people_char_32', 'people_char_33', 'people_char_34', 'people_char_35',\n",
    "       'people_char_36', 'people_char_37']\n",
    "\n",
    "joined_df[boolCols] = joined_df[boolCols].astype('int')\n",
    "joined_df.dtypes"
   ]
  },
  {
   "cell_type": "markdown",
   "metadata": {},
   "source": [
    "Convert people_char_1 to binary feature, as there are only two possible values"
   ]
  },
  {
   "cell_type": "code",
   "execution_count": 17,
   "metadata": {
    "collapsed": false
   },
   "outputs": [
    {
     "data": {
      "text/plain": [
       "(2197291, 51)"
      ]
     },
     "execution_count": 17,
     "metadata": {},
     "output_type": "execute_result"
    }
   ],
   "source": [
    "def convertPeopleChar1(val):\n",
    "    if val == 'type 1':\n",
    "        return 0\n",
    "    else:\n",
    "        return 1\n",
    "\n",
    "joined_df['people_char_1'] = joined_df['people_char_1'].apply(convertPeopleChar1)\n",
    "joined_df.shape"
   ]
  },
  {
   "cell_type": "markdown",
   "metadata": {},
   "source": [
    "Save to disk so we can start here in future work"
   ]
  },
  {
   "cell_type": "code",
   "execution_count": 18,
   "metadata": {
    "collapsed": true
   },
   "outputs": [],
   "source": [
    "#joined_df.to_csv('clean.csv', index=False)\n"
   ]
  },
  {
   "cell_type": "markdown",
   "metadata": {},
   "source": [
    "## Explore"
   ]
  },
  {
   "cell_type": "markdown",
   "metadata": {},
   "source": [
    "Read in saved/cleaned csv"
   ]
  },
  {
   "cell_type": "code",
   "execution_count": 19,
   "metadata": {
    "collapsed": false
   },
   "outputs": [],
   "source": [
    "#clean = pd.read_csv('clean.csv')\n",
    "#clean.info()"
   ]
  },
  {
   "cell_type": "code",
   "execution_count": 20,
   "metadata": {
    "collapsed": false
   },
   "outputs": [],
   "source": [
    "#clean[clean['activity_category'] == 'type 1'].head()\n",
    "#clean.shape"
   ]
  },
  {
   "cell_type": "markdown",
   "metadata": {},
   "source": [
    "Convert remaining categorical features to categories"
   ]
  },
  {
   "cell_type": "code",
   "execution_count": 21,
   "metadata": {
    "collapsed": false
   },
   "outputs": [
    {
     "name": "stdout",
     "output_type": "stream",
     "text": [
      "<class 'pandas.core.frame.DataFrame'>\n",
      "Int64Index: 2197291 entries, 0 to 2197290\n",
      "Data columns (total 51 columns):\n",
      "activity_category    category\n",
      "act_char_1           category\n",
      "act_char_2           category\n",
      "act_char_3           category\n",
      "act_char_4           category\n",
      "act_char_5           category\n",
      "act_char_6           category\n",
      "act_char_7           category\n",
      "act_char_8           category\n",
      "act_char_9           category\n",
      "act_char_10          category\n",
      "outcome              int64\n",
      "people_char_1        category\n",
      "group_1              category\n",
      "people_char_2        category\n",
      "people_char_3        category\n",
      "people_char_4        category\n",
      "people_char_5        category\n",
      "people_char_6        category\n",
      "people_char_7        category\n",
      "people_char_8        category\n",
      "people_char_9        category\n",
      "people_char_10       int64\n",
      "people_char_11       int64\n",
      "people_char_12       int64\n",
      "people_char_13       int64\n",
      "people_char_14       int64\n",
      "people_char_15       int64\n",
      "people_char_16       int64\n",
      "people_char_17       int64\n",
      "people_char_18       int64\n",
      "people_char_19       int64\n",
      "people_char_20       int64\n",
      "people_char_21       int64\n",
      "people_char_22       int64\n",
      "people_char_23       int64\n",
      "people_char_24       int64\n",
      "people_char_25       int64\n",
      "people_char_26       int64\n",
      "people_char_27       int64\n",
      "people_char_28       int64\n",
      "people_char_29       int64\n",
      "people_char_30       int64\n",
      "people_char_31       int64\n",
      "people_char_32       int64\n",
      "people_char_33       int64\n",
      "people_char_34       int64\n",
      "people_char_35       int64\n",
      "people_char_36       int64\n",
      "people_char_37       int64\n",
      "people_char_38       int64\n",
      "dtypes: category(21), int64(30)\n",
      "memory usage: 568.2 MB\n"
     ]
    }
   ],
   "source": [
    "catCols = ['people_char_1', 'activity_category', 'group_1', 'people_char_2', 'people_char_3',\n",
    "       'people_char_4', 'people_char_5', 'people_char_6', 'people_char_7',\n",
    "       'people_char_8', 'people_char_9', 'act_char_1', 'act_char_2', 'act_char_3',\n",
    "       'act_char_4', 'act_char_5', 'act_char_6', 'act_char_7', 'act_char_8',\n",
    "       'act_char_9', 'act_char_10']\n",
    "\n",
    "for _, col in enumerate(catCols):\n",
    "    joined_df[col] = joined_df[col].astype('category')\n",
    "joined_df.info()"
   ]
  },
  {
   "cell_type": "code",
   "execution_count": 22,
   "metadata": {
    "collapsed": false
   },
   "outputs": [
    {
     "data": {
      "text/plain": [
       "0.4439543965728709"
      ]
     },
     "execution_count": 22,
     "metadata": {},
     "output_type": "execute_result"
    }
   ],
   "source": [
    "joined_df['outcome'].mean()\n"
   ]
  },
  {
   "cell_type": "markdown",
   "metadata": {},
   "source": [
    "People completed 43% of the activities they started\n",
    "\n"
   ]
  },
  {
   "cell_type": "markdown",
   "metadata": {},
   "source": [
    "### Activity_Category\n",
    "\n"
   ]
  },
  {
   "cell_type": "code",
   "execution_count": 23,
   "metadata": {
    "collapsed": false
   },
   "outputs": [
    {
     "data": {
      "text/plain": [
       "<matplotlib.axes._subplots.AxesSubplot at 0x11d603518>"
      ]
     },
     "execution_count": 23,
     "metadata": {},
     "output_type": "execute_result"
    },
    {
     "data": {
      "image/png": "[encoded data removed]",
      "text/plain": [
       "<matplotlib.figure.Figure at 0x108cbfb00>"
      ]
     },
     "metadata": {},
     "output_type": "display_data"
    }
   ],
   "source": [
    "sns.countplot(x=\"activity_category\", data=joined_df)"
   ]
  },
  {
   "cell_type": "code",
   "execution_count": 24,
   "metadata": {
    "collapsed": false
   },
   "outputs": [
    {
     "data": {
      "text/plain": [
       "<matplotlib.axes._subplots.AxesSubplot at 0x127b39080>"
      ]
     },
     "execution_count": 24,
     "metadata": {},
     "output_type": "execute_result"
    },
    {
     "data": {
      "image/png": "[encoded data removed]",
      "text/plain": [
       "<matplotlib.figure.Figure at 0x132d45ef0>"
      ]
     },
     "metadata": {},
     "output_type": "display_data"
    }
   ],
   "source": [
    "sns.barplot(x=\"activity_category\", y=\"outcome\", data=joined_df)"
   ]
  },
  {
   "cell_type": "markdown",
   "metadata": {},
   "source": [
    "Observations\n",
    "\n",
    "There are very few observations that fall into the type 6 and type 7 categories. Type 2 is bar far the most frequent category. Type 3 activities seem to covert less frequently."
   ]
  },
  {
   "cell_type": "markdown",
   "metadata": {},
   "source": [
    "### Act_char_1-9"
   ]
  },
  {
   "cell_type": "code",
   "execution_count": 29,
   "metadata": {
    "collapsed": false
   },
   "outputs": [
    {
     "data": {
      "text/plain": [
       "Index(['activity_category', 'act_char_1', 'act_char_2', 'act_char_3',\n",
       "       'act_char_4', 'act_char_5', 'act_char_6', 'act_char_7', 'act_char_8',\n",
       "       'act_char_9', 'act_char_10', 'outcome', 'people_char_1', 'group_1',\n",
       "       'people_char_2', 'people_char_3', 'people_char_4', 'people_char_5',\n",
       "       'people_char_6', 'people_char_7', 'people_char_8', 'people_char_9',\n",
       "       'people_char_10', 'people_char_11', 'people_char_12', 'people_char_13',\n",
       "       'people_char_14', 'people_char_15', 'people_char_16', 'people_char_17',\n",
       "       'people_char_18', 'people_char_19', 'people_char_20', 'people_char_21',\n",
       "       'people_char_22', 'people_char_23', 'people_char_24', 'people_char_25',\n",
       "       'people_char_26', 'people_char_27', 'people_char_28', 'people_char_29',\n",
       "       'people_char_30', 'people_char_31', 'people_char_32', 'people_char_33',\n",
       "       'people_char_34', 'people_char_35', 'people_char_36', 'people_char_37',\n",
       "       'people_char_38'],\n",
       "      dtype='object')"
      ]
     },
     "execution_count": 29,
     "metadata": {},
     "output_type": "execute_result"
    }
   ],
   "source": [
    "typeOneActs = joined_df[joined_df['activity_category'] == 'type 1']\n"
   ]
  },
  {
   "cell_type": "code",
   "execution_count": 33,
   "metadata": {
    "collapsed": false
   },
   "outputs": [
    {
     "name": "stdout",
     "output_type": "stream",
     "text": [
      "Column: act_char_1, Unique Values: [type 3, type 36, type 24, type 2, type 5, ..., type 44, type 50, type 48, type 52, type 45]\n",
      "Length: 51\n",
      "Categories (51, object): [type 3, type 36, type 24, type 2, ..., type 50, type 48, type 52, type 45] \n",
      "\n",
      "Column: act_char_2, Unique Values: [type 5, type 11, type 6, type 2, type 1, ..., type 23, type 28, type 31, type 32, type 30]\n",
      "Length: 32\n",
      "Categories (32, object): [type 5, type 11, type 6, type 2, ..., type 28, type 31, type 32, type 30] \n",
      "\n",
      "Column: act_char_3, Unique Values: [type 1, type 5, type 6, type 3, type 7, ..., type 4, type 9, type 2, type 10, type 11]\n",
      "Length: 11\n",
      "Categories (11, object): [type 1, type 5, type 6, type 3, ..., type 9, type 2, type 10, type 11] \n",
      "\n",
      "Column: act_char_4, Unique Values: [type 1, type 3, type 2, type 4, type 6, type 5, type 7]\n",
      "Categories (7, object): [type 1, type 3, type 2, type 4, type 6, type 5, type 7] \n",
      "\n",
      "Column: act_char_5, Unique Values: [type 6, type 1, type 5, type 2, type 4, type 3, type 7]\n",
      "Categories (7, object): [type 6, type 1, type 5, type 2, type 4, type 3, type 7] \n",
      "\n",
      "Column: act_char_6, Unique Values: [type 3, type 1, type 2, type 4, type 5]\n",
      "Categories (5, object): [type 3, type 1, type 2, type 4, type 5] \n",
      "\n",
      "Column: act_char_7, Unique Values: [type 3, type 1, type 4, type 2, type 5, type 6, type 7, type 8]\n",
      "Categories (8, object): [type 3, type 1, type 4, type 2, type 5, type 6, type 7, type 8] \n",
      "\n",
      "Column: act_char_8, Unique Values: [type 6, type 4, type 5, type 9, type 18, ..., type 15, type 2, type 16, type 12, type 17]\n",
      "Length: 18\n",
      "Categories (18, object): [type 6, type 4, type 5, type 9, ..., type 2, type 16, type 12, type 17] \n",
      "\n",
      "Column: act_char_9, Unique Values: [type 8, type 1, type 2, type 7, type 13, ..., type 14, type 5, type 16, type 19, type 11]\n",
      "Length: 19\n",
      "Categories (19, object): [type 8, type 1, type 2, type 7, ..., type 5, type 16, type 19, type 11] \n",
      "\n"
     ]
    }
   ],
   "source": [
    "actOneThroughNine = ['act_char_1', 'act_char_2', 'act_char_3',\n",
    "       'act_char_4', 'act_char_5', 'act_char_6', 'act_char_7', 'act_char_8',\n",
    "       'act_char_9']\n",
    "\n",
    "for _, col in enumerate(actOneThroughNine):\n",
    "    print('Column: {}, Unique Values: {} \\n'.format(col, typeOneActs[col].unique()))"
   ]
  },
  {
   "cell_type": "markdown",
   "metadata": {},
   "source": [
    "Some of these features have lots of unique values. Not sure how to gain intuition for them."
   ]
  },
  {
   "cell_type": "markdown",
   "metadata": {},
   "source": [
    "### Act_char_10"
   ]
  },
  {
   "cell_type": "code",
   "execution_count": 35,
   "metadata": {
    "collapsed": false
   },
   "outputs": [
    {
     "data": {
      "text/plain": [
       "[type 76, type 1, type 1727, type 894, type 143, ..., type 8359, type 6787, type 7356, type 6865, type 7379]\n",
       "Length: 6516\n",
       "Categories (6515, object): [type 76, type 1, type 1727, type 894, ..., type 6787, type 7356, type 6865, type 7379]"
      ]
     },
     "execution_count": 35,
     "metadata": {},
     "output_type": "execute_result"
    }
   ],
   "source": [
    "joined_df['act_char_10'].unique()"
   ]
  },
  {
   "cell_type": "markdown",
   "metadata": {},
   "source": [
    "There are 6500 different possible values of this variable"
   ]
  },
  {
   "cell_type": "code",
   "execution_count": 37,
   "metadata": {
    "collapsed": true
   },
   "outputs": [],
   "source": [
    "groupedByFeature = joined_df.groupby('act_char_10')\n",
    "rates = groupedByFeature.apply(lambda x: x.outcome.mean())\n",
    "counts = groupedByFeature.apply(lambda x: x.shape[0])\n",
    "ratesAndCountsDf = pd.DataFrame({'rate': rates, 'count': counts})\n",
    "ratesAndCountsDf.sort_values(by='count', ascending=False, inplace=True)\n",
    "ratesAndCountsDf.reset_index(inplace=True)"
   ]
  },
  {
   "cell_type": "code",
   "execution_count": 91,
   "metadata": {
    "collapsed": false
   },
   "outputs": [
    {
     "data": {
      "image/png": "[encoded data removed]",
      "text/plain": [
       "<matplotlib.figure.Figure at 0x17a77f8d0>"
      ]
     },
     "metadata": {},
     "output_type": "display_data"
    }
   ],
   "source": [
    "top20 = ratesAndCountsDf[0:21]\n",
    "y_pos = range((top20.shape[0]))\n",
    "fig = plt.figure(figsize=(20, 5))\n",
    "ax = fig.add_subplot(111)\n",
    "\n",
    "ax.bar(y_pos, top20['rate'], alpha=0.5)\n",
    "plt.xticks(y_pos, top20['act_char_10'])\n",
    "plt.show()\n"
   ]
  },
  {
   "cell_type": "markdown",
   "metadata": {},
   "source": [
    "It looks like type 23, the second most frequent act_char_10 values, has a very low conversion rate."
   ]
  },
  {
   "cell_type": "code",
   "execution_count": 92,
   "metadata": {
    "collapsed": false
   },
   "outputs": [
    {
     "data": {
      "text/html": [
       "<div>\n",
       "<table border=\"1\" class=\"dataframe\">\n",
       "  <thead>\n",
       "    <tr style=\"text-align: right;\">\n",
       "      <th></th>\n",
       "      <th>act_char_10</th>\n",
       "      <th>count</th>\n",
       "      <th>rate</th>\n",
       "    </tr>\n",
       "  </thead>\n",
       "  <tbody>\n",
       "    <tr>\n",
       "      <th>0</th>\n",
       "      <td>type 1</td>\n",
       "      <td>904683</td>\n",
       "      <td>0.510324</td>\n",
       "    </tr>\n",
       "    <tr>\n",
       "      <th>1</th>\n",
       "      <td>type 23</td>\n",
       "      <td>200408</td>\n",
       "      <td>0.046231</td>\n",
       "    </tr>\n",
       "    <tr>\n",
       "      <th>2</th>\n",
       "      <td>type 2</td>\n",
       "      <td>116191</td>\n",
       "      <td>0.434569</td>\n",
       "    </tr>\n",
       "    <tr>\n",
       "      <th>3</th>\n",
       "      <td>type 61</td>\n",
       "      <td>35417</td>\n",
       "      <td>0.513906</td>\n",
       "    </tr>\n",
       "    <tr>\n",
       "      <th>4</th>\n",
       "      <td>type 452</td>\n",
       "      <td>23513</td>\n",
       "      <td>0.505635</td>\n",
       "    </tr>\n",
       "    <tr>\n",
       "      <th>5</th>\n",
       "      <td>type 489</td>\n",
       "      <td>23471</td>\n",
       "      <td>0.530740</td>\n",
       "    </tr>\n",
       "    <tr>\n",
       "      <th>6</th>\n",
       "      <td>type 52</td>\n",
       "      <td>19515</td>\n",
       "      <td>0.446631</td>\n",
       "    </tr>\n",
       "    <tr>\n",
       "      <th>7</th>\n",
       "      <td>type 481</td>\n",
       "      <td>18019</td>\n",
       "      <td>0.633276</td>\n",
       "    </tr>\n",
       "    <tr>\n",
       "      <th>8</th>\n",
       "      <td>type 433</td>\n",
       "      <td>17282</td>\n",
       "      <td>0.503298</td>\n",
       "    </tr>\n",
       "    <tr>\n",
       "      <th>9</th>\n",
       "      <td>type 8</td>\n",
       "      <td>16112</td>\n",
       "      <td>0.276192</td>\n",
       "    </tr>\n",
       "    <tr>\n",
       "      <th>10</th>\n",
       "      <td>type 3</td>\n",
       "      <td>14139</td>\n",
       "      <td>0.413396</td>\n",
       "    </tr>\n",
       "    <tr>\n",
       "      <th>11</th>\n",
       "      <td>type 450</td>\n",
       "      <td>12824</td>\n",
       "      <td>0.524173</td>\n",
       "    </tr>\n",
       "    <tr>\n",
       "      <th>12</th>\n",
       "      <td>type 649</td>\n",
       "      <td>11630</td>\n",
       "      <td>0.450301</td>\n",
       "    </tr>\n",
       "    <tr>\n",
       "      <th>13</th>\n",
       "      <td>type 899</td>\n",
       "      <td>11427</td>\n",
       "      <td>0.316444</td>\n",
       "    </tr>\n",
       "    <tr>\n",
       "      <th>14</th>\n",
       "      <td>type 400</td>\n",
       "      <td>10569</td>\n",
       "      <td>0.917589</td>\n",
       "    </tr>\n",
       "    <tr>\n",
       "      <th>15</th>\n",
       "      <td>type 464</td>\n",
       "      <td>10368</td>\n",
       "      <td>0.850887</td>\n",
       "    </tr>\n",
       "    <tr>\n",
       "      <th>16</th>\n",
       "      <td>type 55</td>\n",
       "      <td>8072</td>\n",
       "      <td>0.393459</td>\n",
       "    </tr>\n",
       "    <tr>\n",
       "      <th>17</th>\n",
       "      <td>type 248</td>\n",
       "      <td>7860</td>\n",
       "      <td>0.487659</td>\n",
       "    </tr>\n",
       "    <tr>\n",
       "      <th>18</th>\n",
       "      <td>type 257</td>\n",
       "      <td>7349</td>\n",
       "      <td>0.461559</td>\n",
       "    </tr>\n",
       "    <tr>\n",
       "      <th>19</th>\n",
       "      <td>type 420</td>\n",
       "      <td>6719</td>\n",
       "      <td>0.835243</td>\n",
       "    </tr>\n",
       "    <tr>\n",
       "      <th>20</th>\n",
       "      <td>type 201</td>\n",
       "      <td>6574</td>\n",
       "      <td>0.727107</td>\n",
       "    </tr>\n",
       "  </tbody>\n",
       "</table>\n",
       "</div>"
      ],
      "text/plain": [
       "   act_char_10   count      rate\n",
       "0       type 1  904683  0.510324\n",
       "1      type 23  200408  0.046231\n",
       "2       type 2  116191  0.434569\n",
       "3      type 61   35417  0.513906\n",
       "4     type 452   23513  0.505635\n",
       "5     type 489   23471  0.530740\n",
       "6      type 52   19515  0.446631\n",
       "7     type 481   18019  0.633276\n",
       "8     type 433   17282  0.503298\n",
       "9       type 8   16112  0.276192\n",
       "10      type 3   14139  0.413396\n",
       "11    type 450   12824  0.524173\n",
       "12    type 649   11630  0.450301\n",
       "13    type 899   11427  0.316444\n",
       "14    type 400   10569  0.917589\n",
       "15    type 464   10368  0.850887\n",
       "16     type 55    8072  0.393459\n",
       "17    type 248    7860  0.487659\n",
       "18    type 257    7349  0.461559\n",
       "19    type 420    6719  0.835243\n",
       "20    type 201    6574  0.727107"
      ]
     },
     "execution_count": 92,
     "metadata": {},
     "output_type": "execute_result"
    }
   ],
   "source": [
    "top20"
   ]
  }
 ],
 "metadata": {
  "kernelspec": {
   "display_name": "Python 3",
   "language": "python",
   "name": "python3"
  },
  "language_info": {
   "codemirror_mode": {
    "name": "ipython",
    "version": 3
   },
   "file_extension": ".py",
   "mimetype": "text/x-python",
   "name": "python",
   "nbconvert_exporter": "python",
   "pygments_lexer": "ipython3",
   "version": "3.5.1"
  }
 },
 "nbformat": 4,
 "nbformat_minor": 0
}
